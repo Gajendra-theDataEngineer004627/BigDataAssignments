{
  "nbformat": 4,
  "nbformat_minor": 0,
  "metadata": {
    "colab": {
      "provenance": [],
      "authorship_tag": "ABX9TyPG6YV0ci35uqyFlytvkJ2A",
      "include_colab_link": true
    },
    "kernelspec": {
      "name": "python3",
      "display_name": "Python 3"
    },
    "language_info": {
      "name": "python"
    }
  },
  "cells": [
    {
      "cell_type": "markdown",
      "metadata": {
        "id": "view-in-github",
        "colab_type": "text"
      },
      "source": [
        "<a href=\"https://colab.research.google.com/github/Gajendra-theDataEngineer004627/BigDataAssignments/blob/Assignment11/Assignment11.ipynb\" target=\"_parent\"><img src=\"https://colab.research.google.com/assets/colab-badge.svg\" alt=\"Open In Colab\"/></a>"
      ]
    },
    {
      "cell_type": "code",
      "source": [
        "!apt-get update -y"
      ],
      "metadata": {
        "colab": {
          "base_uri": "https://localhost:8080/"
        },
        "id": "GdlpnIVQTvVY",
        "outputId": "16e60218-1846-499d-bab8-f4af76e15b22"
      },
      "execution_count": 1,
      "outputs": [
        {
          "output_type": "stream",
          "name": "stdout",
          "text": [
            "\r0% [Working]\r            \rGet:1 http://security.ubuntu.com/ubuntu jammy-security InRelease [110 kB]\n",
            "\r0% [Connecting to archive.ubuntu.com] [1 InRelease 5,483 B/110 kB 5%] [Waiting \r                                                                               \rGet:2 https://cloud.r-project.org/bin/linux/ubuntu jammy-cran40/ InRelease [3,626 B]\n",
            "Get:3 https://developer.download.nvidia.com/compute/cuda/repos/ubuntu2204/x86_64  InRelease [1,581 B]\n",
            "Get:4 https://developer.download.nvidia.com/compute/cuda/repos/ubuntu2204/x86_64  Packages [494 kB]\n",
            "Hit:5 http://archive.ubuntu.com/ubuntu jammy InRelease\n",
            "Get:6 http://security.ubuntu.com/ubuntu jammy-security/restricted amd64 Packages [984 kB]\n",
            "Get:7 http://archive.ubuntu.com/ubuntu jammy-updates InRelease [119 kB]\n",
            "Get:8 https://ppa.launchpadcontent.net/c2d4u.team/c2d4u4.0+/ubuntu jammy InRelease [18.1 kB]\n",
            "Get:9 http://security.ubuntu.com/ubuntu jammy-security/universe amd64 Packages [990 kB]\n",
            "Get:10 http://security.ubuntu.com/ubuntu jammy-security/main amd64 Packages [909 kB]\n",
            "Get:11 http://archive.ubuntu.com/ubuntu jammy-backports InRelease [109 kB]\n",
            "Get:12 https://ppa.launchpadcontent.net/deadsnakes/ppa/ubuntu jammy InRelease [18.1 kB]\n",
            "Get:13 http://archive.ubuntu.com/ubuntu jammy-updates/restricted amd64 Packages [1,010 kB]\n",
            "Get:14 http://archive.ubuntu.com/ubuntu jammy-updates/universe amd64 Packages [1,251 kB]\n",
            "Get:15 http://archive.ubuntu.com/ubuntu jammy-updates/main amd64 Packages [1,182 kB]\n",
            "Get:16 https://ppa.launchpadcontent.net/graphics-drivers/ppa/ubuntu jammy InRelease [24.3 kB]\n",
            "Hit:17 https://ppa.launchpadcontent.net/ubuntugis/ppa/ubuntu jammy InRelease\n",
            "Get:18 https://ppa.launchpadcontent.net/c2d4u.team/c2d4u4.0+/ubuntu jammy/main Sources [2,176 kB]\n",
            "Get:19 https://ppa.launchpadcontent.net/c2d4u.team/c2d4u4.0+/ubuntu jammy/main amd64 Packages [1,117 kB]\n",
            "Get:20 https://ppa.launchpadcontent.net/deadsnakes/ppa/ubuntu jammy/main amd64 Packages [21.8 kB]\n",
            "Get:21 https://ppa.launchpadcontent.net/graphics-drivers/ppa/ubuntu jammy/main amd64 Packages [37.3 kB]\n",
            "Fetched 10.6 MB in 6s (1,857 kB/s)\n",
            "Reading package lists... Done\n"
          ]
        }
      ]
    },
    {
      "cell_type": "code",
      "source": [
        "!apt-get install openjdk-8-jdk-headless -qq > /dev/null"
      ],
      "metadata": {
        "id": "9WPqXGDbUHqH"
      },
      "execution_count": 2,
      "outputs": []
    },
    {
      "cell_type": "code",
      "source": [
        "!wget -q https://archive.apache.org/dist/spark/spark-3.1.2/spark-3.1.2-bin-hadoop2.7.tgz"
      ],
      "metadata": {
        "id": "odDaqZCqULvH"
      },
      "execution_count": 3,
      "outputs": []
    },
    {
      "cell_type": "code",
      "source": [
        "!tar xf spark-3.1.2-bin-hadoop2.7.tgz"
      ],
      "metadata": {
        "id": "YjVoT_pBUP0_"
      },
      "execution_count": 4,
      "outputs": []
    },
    {
      "cell_type": "code",
      "source": [
        "import os\n",
        "os.environ[\"JAVA_HOME\"] = \"/usr/lib/jvm/java-8-openjdk-amd64\"\n",
        "os.environ[\"SPARK_HOME\"] = \"/content/spark-3.1.2-bin-hadoop2.7\""
      ],
      "metadata": {
        "id": "2lGO5YJiURhf"
      },
      "execution_count": 5,
      "outputs": []
    },
    {
      "cell_type": "code",
      "source": [
        "!pip install -q findspark\n",
        "import findspark\n",
        "findspark.init()"
      ],
      "metadata": {
        "id": "NqRAJOicUTP-"
      },
      "execution_count": 6,
      "outputs": []
    },
    {
      "cell_type": "code",
      "source": [
        "from pyspark.sql import SparkSession\n",
        "from pyspark.conf import SparkConf\n",
        "from pyspark.sql.types import StructType, StructField, IntegerType, StringType, TimestampType, DoubleType"
      ],
      "metadata": {
        "id": "G4eSLh2OUT33"
      },
      "execution_count": 7,
      "outputs": []
    },
    {
      "cell_type": "code",
      "source": [
        "spark = SparkSession.builder \\\n",
        "    .appName(\"Assignemnt11\") \\\n",
        "    .config(\"spark.jars.packages\", \"org.apache.spark:spark-avro_2.12:3.1.2\") \\\n",
        "    .master(\"local[*]\") \\\n",
        "    .getOrCreate()\n"
      ],
      "metadata": {
        "id": "SYDq3x1TUekw"
      },
      "execution_count": 8,
      "outputs": []
    },
    {
      "cell_type": "code",
      "source": [
        "window_schema = StructType([\n",
        "    StructField(\"country\", StringType()),\n",
        "    StructField(\"weeknum\",IntegerType()),\n",
        "    StructField(\"numinvoices\",IntegerType()),\n",
        "    StructField(\"totalquantity\", IntegerType()),\n",
        "    StructField(\"invoicevalue\",DoubleType())\n",
        "])\n"
      ],
      "metadata": {
        "id": "E-6ey5l0VQ3v"
      },
      "execution_count": 9,
      "outputs": []
    },
    {
      "cell_type": "code",
      "source": [
        "# function to doanload data files from the google drive\n",
        "import gdown\n",
        "def downloadfiles_fromFolder() :\n",
        "    url = \"https://drive.google.com/drive/folders/1Hf8PijpBSNyDjwr-YgozGDRL8UqMDq3D?usp=sharing\"   # can also be used input()\n",
        "    if url.split(\"/\")[-1]== \"?usp=sharing\":\n",
        "       url = url.replace(\"?usp=sharing\",\"\")\n",
        "    gdown.download_folder(url, output=\"/content\")\n",
        "\n",
        "downloadfiles_fromFolder()"
      ],
      "metadata": {
        "id": "k_ZA-JNiVaCc",
        "colab": {
          "base_uri": "https://localhost:8080/"
        },
        "outputId": "e75edc0d-7be0-4bc5-fc3e-fced548eaf72"
      },
      "execution_count": 10,
      "outputs": [
        {
          "output_type": "stream",
          "name": "stderr",
          "text": [
            "Retrieving folder list\n"
          ]
        },
        {
          "output_type": "stream",
          "name": "stdout",
          "text": [
            "Retrieving folder 1PzvW3sL9CcaFgkFqywCKI8PUiYVUE4kt DataSets\n",
            "Processing file 1Daxk18O6UzEiCQpsA8j_3zaWVuTjGjxl windowdata.csv\n",
            "Retrieving folder 1mMKOGZGhZV4trkCrDX352AiaKz4sVeA0 Output_of_Assignment\n",
            "Retrieving folder 1O-xLP9OssEXWhG3b1EOd-CwCDhrwdkMW Assignment11\n",
            "Retrieving folder 1Omu_t1Zt3lqa8Vx7F-7naLtUNhv_lAuC test\n",
            "Processing file 16D6BP-5HbStzW2nTaVMxz1bpX4ye9slY week11_assignment.pdf\n",
            "Building directory structure completed\n"
          ]
        },
        {
          "output_type": "stream",
          "name": "stderr",
          "text": [
            "Retrieving folder list completed\n",
            "Building directory structure\n",
            "Downloading...\n",
            "From: https://drive.google.com/uc?id=1Daxk18O6UzEiCQpsA8j_3zaWVuTjGjxl\n",
            "To: /content/DataSets/windowdata.csv\n",
            "100%|██████████| 1.30k/1.30k [00:00<00:00, 5.06MB/s]\n",
            "Downloading...\n",
            "From: https://drive.google.com/uc?id=16D6BP-5HbStzW2nTaVMxz1bpX4ye9slY\n",
            "To: /content/week11_assignment.pdf\n",
            "100%|██████████| 657k/657k [00:00<00:00, 80.3MB/s]\n",
            "Download completed\n"
          ]
        }
      ]
    },
    {
      "cell_type": "code",
      "source": [
        "\"\"\"   ---Its a function to save files as csv to the google drive---------\n",
        "import os\n",
        "import pandas as pd\n",
        "\n",
        "def spark_dataframes_to_csv(dataframes, drive_path):\n",
        "    # Mount Google Drive if not already mounted\n",
        "    if not os.path.isdir('/content/gdrive'):\n",
        "        from google.colab import drive\n",
        "        drive.mount('/content/gdrive')\n",
        "\n",
        "    # Create directory if it doesn't exist\n",
        "    directory_path = '/content/gdrive/MyDrive/' + drive_path\n",
        "    if not os.path.exists(directory_path):\n",
        "        os.makedirs(directory_path)\n",
        "\n",
        "    # Convert Spark DataFrames to Pandas DataFrames and save as CSV\n",
        "    for i, dataframe in enumerate(dataframes, start=1):\n",
        "        pandas_df = dataframe.toPandas()\n",
        "        file_path = f'{directory_path}/df{i}.csv'\n",
        "        pandas_df.to_csv(file_path, index=False)\n",
        "        print(f\"DataFrame {i} saved as {file_path}\")\n",
        "\n",
        "\"\"\""
      ],
      "metadata": {
        "id": "_o0R_41jahGV"
      },
      "execution_count": null,
      "outputs": []
    },
    {
      "cell_type": "code",
      "source": [
        "path1 = \"/content/DataSets/windowdata.csv\"\n",
        "\n",
        "# -----Reading the data using standard spark reader Api\n",
        "window_dataframe = spark.read.format(\"csv\").schema(window_schema).option(\"path\",path1).load()\n",
        "window_dataframe.show()\n"
      ],
      "metadata": {
        "id": "8AphZH-Dae1O"
      },
      "execution_count": null,
      "outputs": []
    },
    {
      "cell_type": "code",
      "source": [
        "# Mount Google Drive\n",
        "from google.colab import drive\n",
        "drive.mount('/content/drive')"
      ],
      "metadata": {
        "colab": {
          "base_uri": "https://localhost:8080/"
        },
        "id": "gKferdCKpOSI",
        "outputId": "0b466d02-e369-47b5-e904-f592f422339b"
      },
      "execution_count": 13,
      "outputs": [
        {
          "output_type": "stream",
          "name": "stdout",
          "text": [
            "Mounted at /content/drive\n"
          ]
        }
      ]
    },
    {
      "cell_type": "code",
      "source": [
        "# using write api for saving data in parquet format\n",
        "target_path1 = \"/content/drive/MyDrive/Assignment11/\"\n",
        "# Saving in the parquet format\n",
        "window_dataframe.write.partitionBy(\"country\",\"weeknum\").mode(\"overwrite\").parquet(target_path1)\n",
        "print(\"Parquet data saved to Google Drive successfully!\")"
      ],
      "metadata": {
        "colab": {
          "base_uri": "https://localhost:8080/"
        },
        "id": "nqShPhRJah4z",
        "outputId": "ec1bbb5d-484b-47c2-e784-30909d9d7c91"
      },
      "execution_count": 20,
      "outputs": [
        {
          "output_type": "stream",
          "name": "stdout",
          "text": [
            "Parquet data saved to Google Drive successfully!\n"
          ]
        }
      ]
    },
    {
      "cell_type": "code",
      "source": [
        "import shutil\n",
        "\n",
        "# Specify the local target path for Avro files\n",
        "local_target_path_avro = \"/content/AvroData\"\n",
        "\n",
        "target_path2 = \"/content/drive/MyDrive/Assignment11_testAvro\"\n",
        "# saving it in avro format\n",
        "window_dataframe.write.partitionBy(\"country\").format(\"avro\").mode(\"overwrite\").save(target_path2)\n",
        "#shutil.move(local_target_path_avro, target_path2)\n",
        "print(\"Avro data saved to Google Drive successfully!\")\n",
        "\n",
        "print(\"Finally Successfully solved problem 1....!!!\")"
      ],
      "metadata": {
        "colab": {
          "base_uri": "https://localhost:8080/"
        },
        "id": "exJPxaZ7aiKr",
        "outputId": "fa1ac559-991c-45c3-dc1f-ac3e2aebd9bc"
      },
      "execution_count": 21,
      "outputs": [
        {
          "output_type": "stream",
          "name": "stdout",
          "text": [
            "Avro data saved to Google Drive successfully!\n",
            "Finally Successfully solved problem 1....!!!\n"
          ]
        }
      ]
    },
    {
      "cell_type": "code",
      "source": [
        "# Unmount Google Drive to release the connection\n",
        "# after this all data will be saved to drive\n",
        "drive.flush_and_unmount()"
      ],
      "metadata": {
        "id": "phmICEq3pvfs"
      },
      "execution_count": 22,
      "outputs": []
    }
  ]
}